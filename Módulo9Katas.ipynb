{
 "cells": [
  {
   "cell_type": "markdown",
   "metadata": {},
   "source": [
    "# Función para leer 3 tanques de combustible y muestre el promedio\n"
   ]
  },
  {
   "cell_type": "code",
   "execution_count": 11,
   "metadata": {},
   "outputs": [],
   "source": [
    "def reporte(tanque1, tanque2, tanque3):\n",
    "    total_promedio = (tanque1 + tanque2 + tanque3) / 3\n",
    "    return f\"\"\"Promedio de combustible:\n",
    "    Total Promedio: {promedio}%\n",
    "    Tanque 1: {tanque1}%\n",
    "    Tanque 2: {tanque2}%\n",
    "    Tanque 3: {tanque3}% \n",
    "    \"\"\""
   ]
  },
  {
   "cell_type": "markdown",
   "metadata": {},
   "source": [
    "# Llamamos a la función que genera el reporte print(funcion(tanque1, tanque2, tanque3))\n"
   ]
  },
  {
   "cell_type": "code",
   "execution_count": 12,
   "metadata": {},
   "outputs": [
    {
     "name": "stdout",
     "output_type": "stream",
     "text": [
      "Promedio de combustible:\n",
      "    Total Promedio: <function promedio at 0x1068b1bd0>%\n",
      "    Tanque 1: 100%\n",
      "    Tanque 2: 40%\n",
      "    Tanque 3: 25% \n",
      "    \n"
     ]
    }
   ],
   "source": [
    "print(reporte(100, 40, 25))"
   ]
  },
  {
   "cell_type": "markdown",
   "metadata": {},
   "source": [
    "# Función promedio \n"
   ]
  },
  {
   "cell_type": "code",
   "execution_count": 13,
   "metadata": {},
   "outputs": [
    {
     "data": {
      "text/plain": [
       "82.0"
      ]
     },
     "execution_count": 13,
     "metadata": {},
     "output_type": "execute_result"
    }
   ],
   "source": [
    "def promedio(values):\n",
    "    total = sum(values)\n",
    "    numero_tanques = len(values)\n",
    "    return total / numero_tanques\n",
    "\n",
    "\n",
    "promedio([10, 15, 11]) "
   ]
  },
  {
   "cell_type": "markdown",
   "metadata": {},
   "source": [
    "# Actualiza la función"
   ]
  },
  {
   "cell_type": "code",
   "execution_count": 16,
   "metadata": {},
   "outputs": [],
   "source": [
    "def reporte(tanque1, tanque2, tanque3):\n",
    "    total_promedio = (tanque1 + tanque2 + tanque3) / 3\n",
    "    return f\"\"\"Promedio de combustible:\n",
    "    Total Promedio: {promedio([tanque1, tanque2, tanque3])}%\n",
    "    Tanque 1: {tanque1}%\n",
    "    Tanque 2: {tanque2}%\n",
    "    Tanque 3: {tanque3}% \n",
    "    \"\"\"\n"
   ]
  },
  {
   "cell_type": "code",
   "execution_count": 17,
   "metadata": {},
   "outputs": [
    {
     "name": "stdout",
     "output_type": "stream",
     "text": [
      "Promedio de combustible:\n",
      "    Total Promedio: 60.0%\n",
      "    Tanque 1: 100%\n",
      "    Tanque 2: 56%\n",
      "    Tanque 3: 24% \n",
      "    \n"
     ]
    }
   ],
   "source": [
    "    print(reporte(100, 56, 24))"
   ]
  },
  {
   "cell_type": "markdown",
   "metadata": {},
   "source": [
    "# Función con un informe preciso de la misión. Considera hora de prelanzamiento, tiempo de vuelo, destino, tanque externo y tanque interno\n"
   ]
  },
  {
   "cell_type": "code",
   "execution_count": 20,
   "metadata": {},
   "outputs": [
    {
     "name": "stdout",
     "output_type": "stream",
     "text": [
      "\n",
      "    Destino de la mision: Luna\n",
      "    Tiempo: 55 minutos\n",
      "    Combustible disponible: 433400 litros\n",
      "    \n"
     ]
    }
   ],
   "source": [
    "def reporte_mision(prelanzamiento, tiempo_de_vuelo, destino, tanque_externo, tanque_interno):\n",
    "    return f\"\"\"\n",
    "    Destino de la mision: {destino}\n",
    "    Tiempo: {prelanzamiento+ tiempo_de_vuelo} minutos\n",
    "    Combustible disponible: {tanque_externo + tanque_interno} litros\n",
    "    \"\"\"\n",
    "\n",
    "print(reporte_mision(32, 23, \"Luna\", 430000, 3400))"
   ]
  },
  {
   "cell_type": "markdown",
   "metadata": {},
   "source": [
    "# Escribe tu nueva función de reporte considerando lo anterior\n"
   ]
  },
  {
   "cell_type": "code",
   "execution_count": 24,
   "metadata": {},
   "outputs": [
    {
     "name": "stdout",
     "output_type": "stream",
     "text": [
      "\n",
      "    Mission to Luna\n",
      "    Tiempo de Viaje: 61 minutes\n",
      "    Nos queda de combustible: 850000\n",
      "    \n"
     ]
    }
   ],
   "source": [
    "def reporte_mision(destino, *minutes, **fuel_reservoirs):\n",
    "    return f\"\"\"\n",
    "    Mission to {destino}\n",
    "    Tiempo de Viaje: {sum(minutes)} minutes\n",
    "    Nos queda de combustible: {sum(fuel_reservoirs.values())}\n",
    "    \"\"\"\n",
    "\n",
    "print(reporte_mision(\"Luna\", 2, 39, 20, main=600000, external=250000))"
   ]
  },
  {
   "cell_type": "markdown",
   "metadata": {},
   "source": [
    "# Escribe tu nueva función\n"
   ]
  },
  {
   "cell_type": "code",
   "execution_count": 26,
   "metadata": {},
   "outputs": [
    {
     "name": "stdout",
     "output_type": "stream",
     "text": [
      "\n",
      "    Mission to Luna\n",
      "    Tiempo de viaje: 61 minutes\n",
      "    Nos queda de combustible: 850000\n",
      "    main tank --> 600000 litros que nos quedan\n",
      "external tank --> 250000 litros que nos quedan\n",
      "\n"
     ]
    }
   ],
   "source": [
    "def reporte_mision(destino, *minutes, **fuel_reservoirs):\n",
    "    main_report = f\"\"\"\n",
    "    Mission to {destino}\n",
    "    Tiempo de viaje: {sum(minutes)} minutes\n",
    "    Nos queda de combustible: {sum(fuel_reservoirs.values())}\n",
    "    \"\"\"\n",
    "    for tanque1, litros in fuel_reservoirs.items():\n",
    "        main_report += f\"{tanque1} tank --> {litros} litros que nos quedan\\n\"\n",
    "    return main_report\n",
    "\n",
    "print(reporte_mision(\"Luna\", 2, 39, 20, main=600000, external=250000))"
   ]
  }
 ],
 "metadata": {
  "interpreter": {
   "hash": "aee8b7b246df8f9039afb4144a1f6fd8d2ca17a180786b69acc140d282b71a49"
  },
  "kernelspec": {
   "display_name": "Python 3.10.2 64-bit",
   "language": "python",
   "name": "python3"
  },
  "language_info": {
   "codemirror_mode": {
    "name": "ipython",
    "version": 3
   },
   "file_extension": ".py",
   "mimetype": "text/x-python",
   "name": "python",
   "nbconvert_exporter": "python",
   "pygments_lexer": "ipython3",
   "version": "3.10.2"
  },
  "orig_nbformat": 4
 },
 "nbformat": 4,
 "nbformat_minor": 2
}
