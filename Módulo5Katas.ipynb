{
 "cells": [
  {
   "cell_type": "markdown",
   "metadata": {},
   "source": [
    "# Crear variables para almacenar las dos distancias\n",
    "# ¡Asegúrate de quitar las comas!"
   ]
  },
  {
   "cell_type": "code",
   "execution_count": 20,
   "metadata": {},
   "outputs": [],
   "source": [
    "Tierra = 149597870\n",
    "Jupiter = 778547200"
   ]
  },
  {
   "cell_type": "markdown",
   "metadata": {},
   "source": [
    "# Calcular la distancia entre planetas"
   ]
  },
  {
   "cell_type": "code",
   "execution_count": 21,
   "metadata": {},
   "outputs": [
    {
     "name": "stdout",
     "output_type": "stream",
     "text": [
      "628949330\n",
      "390577534\n"
     ]
    }
   ],
   "source": [
    "DistanciaKM = Jupiter - Tierra\n",
    "print(DistanciaKM)\n",
    "\n",
    "DistanciaMillas = DistanciaKM*0.621\n",
    "\n",
    "print(round(DistanciaMillas))\n"
   ]
  },
  {
   "cell_type": "markdown",
   "metadata": {},
   "source": [
    "# Almacenar las entradas del usuario\n",
    "#Pista: variable = input(\"¿Cuál es tu nombre?\")"
   ]
  },
  {
   "cell_type": "code",
   "execution_count": 22,
   "metadata": {},
   "outputs": [],
   "source": [
    "primerplaneta = input('Distancia al sol del primer planeta en KM')\n",
    "segundoplaneta = input('Distancia al sol del segundo planeta en KM')"
   ]
  },
  {
   "cell_type": "markdown",
   "metadata": {},
   "source": [
    "# Convierte las cadenas de ambos planetas a números enteros\n"
   ]
  },
  {
   "cell_type": "code",
   "execution_count": 23,
   "metadata": {},
   "outputs": [],
   "source": [
    "primerplaneta = int(primerplaneta)\n",
    "segundoplaneta = int(segundoplaneta)"
   ]
  },
  {
   "cell_type": "markdown",
   "metadata": {},
   "source": [
    "# Realizar el cálculo y determinar el valor absoluto\n",
    "\n",
    "\n",
    "# Convertir de KM a Millas"
   ]
  },
  {
   "cell_type": "code",
   "execution_count": 24,
   "metadata": {},
   "outputs": [
    {
     "name": "stdout",
     "output_type": "stream",
     "text": [
      "50300000\n",
      "31236300.0\n"
     ]
    }
   ],
   "source": [
    "\n",
    "DistanciaKM = segundoplaneta - primerplaneta\n",
    "print(DistanciaKM)\n",
    "\n",
    "DistanciaMillas = DistanciaKM * 0.621\n",
    "print(abs(DistanciaMillas))"
   ]
  },
  {
   "cell_type": "code",
   "execution_count": 26,
   "metadata": {},
   "outputs": [],
   "source": [
    "\n",
    "Mercurio=57900000\n",
    "Venus=108200000\n",
    "Tierra=149600000\n",
    "Marte=227900000\n",
    "Júpiter=778600000\n",
    "Saturno=1433500000\n",
    "Urano=2872500000\n",
    "Neptuno=4495100000"
   ]
  },
  {
   "cell_type": "code",
   "execution_count": 27,
   "metadata": {},
   "outputs": [
    {
     "name": "stdout",
     "output_type": "stream",
     "text": [
      "-4437200000\n",
      "-2755501200\n"
     ]
    }
   ],
   "source": [
    "DistanciaKM = Mercurio - Neptuno\n",
    "print(DistanciaKM)\n",
    "\n",
    "DistanciaMillas = DistanciaKM*0.621\n",
    "\n",
    "print(round(DistanciaMillas))"
   ]
  }
 ],
 "metadata": {
  "interpreter": {
   "hash": "aee8b7b246df8f9039afb4144a1f6fd8d2ca17a180786b69acc140d282b71a49"
  },
  "kernelspec": {
   "display_name": "Python 3.10.2 64-bit",
   "language": "python",
   "name": "python3"
  },
  "language_info": {
   "codemirror_mode": {
    "name": "ipython",
    "version": 3
   },
   "file_extension": ".py",
   "mimetype": "text/x-python",
   "name": "python",
   "nbconvert_exporter": "python",
   "pygments_lexer": "ipython3",
   "version": "3.10.2"
  },
  "orig_nbformat": 4
 },
 "nbformat": 4,
 "nbformat_minor": 2
}
